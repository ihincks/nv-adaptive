{
 "cells": [
  {
   "cell_type": "markdown",
   "metadata": {},
   "source": [
    "# Testing Adaptive Learning with Simulations"
   ]
  },
  {
   "cell_type": "markdown",
   "metadata": {},
   "source": [
    "## Import Modules"
   ]
  },
  {
   "cell_type": "code",
   "execution_count": 1,
   "metadata": {
    "collapsed": true
   },
   "outputs": [],
   "source": [
    "%matplotlib inline\n",
    "import warnings\n",
    "warnings.filterwarnings('ignore', category=DeprecationWarning)\n",
    "from __future__ import division # Ensures that a/b is always a float.\n",
    "from IPython.display import display, clear_output\n",
    "\n",
    "import os\n",
    "import itertools\n",
    "import matplotlib\n",
    "import numpy as np\n",
    "import matplotlib.pyplot as plt\n",
    "import qinfer as qi\n",
    "import models as m\n",
    "import abc\n",
    "import datetime\n",
    "from time import sleep\n",
    "from adaptive import *\n",
    "import topchef_client"
   ]
  },
  {
   "cell_type": "markdown",
   "metadata": {},
   "source": [
    "## Setup"
   ]
  },
  {
   "cell_type": "markdown",
   "metadata": {},
   "source": [
    "Connect to the server that sends experiments to the lab."
   ]
  },
  {
   "cell_type": "code",
   "execution_count": 2,
   "metadata": {
    "collapsed": true
   },
   "outputs": [],
   "source": [
    "server_url = 'http://129.97.136.203:5001'\n",
    "service_id = 'c8b1b068-aefc-43db-992c-d9dafaaac59a'\n",
    "client = topchef_client.Client(server_url)\n",
    "service = client.services[service_id]"
   ]
  },
  {
   "cell_type": "markdown",
   "metadata": {},
   "source": [
    "Connect to the parallel engines of this computer."
   ]
  },
  {
   "cell_type": "code",
   "execution_count": 3,
   "metadata": {},
   "outputs": [
    {
     "name": "stdout",
     "output_type": "stream",
     "text": [
      "importing os on engine(s)\n",
      "Changed engine directories to notebook directory.\n",
      "Changed MPL backend.\n",
      "Successfully imported QInfer on engines.\n",
      "Successfully imported models.\n",
      "Engines connected: 12\n"
     ]
    }
   ],
   "source": [
    "from ipyparallel import Client\n",
    "rc = Client()\n",
    "dview = rc[:]\n",
    "dview.use_dill()\n",
    "\n",
    "with dview.sync_imports():\n",
    "    import os\n",
    "\n",
    "# Change directory on engines so that we can import models.\n",
    "if dview.execute('os.chdir(\"{}\")'.format(os.getcwd())).get():\n",
    "    print \"Changed engine directories to notebook directory.\"\n",
    "\n",
    "# To ensure that we don't enter into a Matplotlib event loop\n",
    "# on our engines, we set the MPLBACKEND to the non-interactive\n",
    "# Agg backend first. This is especially useful if the engines\n",
    "# are connected via SSH.\n",
    "if dview.execute('os.environ[\"MPLBACKEND\"] = \"Agg\"').get():\n",
    "    print \"Changed MPL backend.\"\n",
    "\n",
    "# Force each engine to import QInfer before proceeding.\n",
    "if dview.execute('import qinfer as qi').get():\n",
    "    print \"Successfully imported QInfer on engines.\"\n",
    "\n",
    "if dview.execute('import models').get():\n",
    "    print \"Successfully imported models.\"\n",
    "\n",
    "print \"Engines connected: {}\".format(len(rc.ids))"
   ]
  },
  {
   "cell_type": "markdown",
   "metadata": {},
   "source": [
    "Plotting and exporting. Change the `overwrite` flag if you want regenerated figures to be saved to disk."
   ]
  },
  {
   "cell_type": "code",
   "execution_count": 4,
   "metadata": {
    "collapsed": true
   },
   "outputs": [],
   "source": [
    "matplotlib.rcParams['mathtext.fontset'] = 'stix'\n",
    "matplotlib.rcParams['font.family'] = 'STIXGeneral'\n",
    "\n",
    "SIZE = 14\n",
    "plt.rc('font', size=SIZE)          # controls default text sizes\n",
    "plt.rc('axes', titlesize=SIZE)     # fontsize of the axes title\n",
    "plt.rc('axes', labelsize=SIZE)     # fontsize of the x any y labels\n",
    "plt.rc('xtick', labelsize=10)      # fontsize of the tick labels\n",
    "plt.rc('ytick', labelsize=10)      # fontsize of the tick labels\n",
    "plt.rc('legend', fontsize=SIZE)    # legend fontsize\n",
    "plt.rc('figure', titlesize=SIZE)   # size of the figure title\n",
    "\n",
    "overwrite = True\n",
    "def export_figure(fig, name, extensions=['.png', '.pdf']):\n",
    "    for ext in extensions:\n",
    "        fname = '../fig/' + name + ext\n",
    "        if not os.path.isfile(fname):\n",
    "            print('Saving {}'.format(fname))\n",
    "            fig.savefig(fname)\n",
    "        elif overwrite:\n",
    "            print('Overwriting {}'.format(fname))\n",
    "            fig.savefig(fname)\n",
    "        else:\n",
    "            print('Skipping {}'.format(fname))"
   ]
  },
  {
   "cell_type": "markdown",
   "metadata": {},
   "source": [
    "## Initialize Prior and Sweeps"
   ]
  },
  {
   "cell_type": "markdown",
   "metadata": {},
   "source": [
    "Model parameters:\n",
    "   - 0: :math:`\\Omega`, Rabi strength (MHz); coefficient of Sx\n",
    "   - 1: :math:`\\omega_e`, Zeeman frequency (MHz); coefficient of Sz\n",
    "   - 2: :math:`\\Delta \\omega_c`, ZFS detuning (MHz); coefficient of Sz^2\n",
    "   - 3: :math:`\\A_N`, Nitrogen hyperfine splitting (MHz); modeled as incoherent average  \n",
    "   - 4: :math:`T_2^-1`, inverse of electron T2* (MHz)\n",
    "\n",
    "Experiment parameters:\n",
    " - mode: Specifies whether a reference or signal count is being performed.\n",
    " - t:   Pulse width\n",
    " - tau: Ramsey wait time (only relevent if mode is `RabiRamseyModel.RAMSEY`)\n",
    " - phi: Ramsey phase between pulses (\")\n",
    " - wo: Carrier offset from 2870MHz, positive or negative (MHz)"
   ]
  },
  {
   "cell_type": "code",
   "execution_count": 5,
   "metadata": {
    "collapsed": true
   },
   "outputs": [],
   "source": [
    "true_value = np.array([5.555, 1.432, 0.579, 2.171, 0.25])\n",
    "target_stds = np.array([0.01,0.005,0.01,0.005,0.01])\n",
    "wide_prior = qi.UniformDistribution(np.array([\n",
    "            [0,20],\n",
    "            [0,10],\n",
    "            [-5,5],\n",
    "            [1.5,3.5],\n",
    "            [100**-1,1**-1]\n",
    "        ]))\n",
    "narrow_prior = qi.UniformDistribution(\n",
    "    true_value[:,np.newaxis] + \n",
    "    target_stds[:,np.newaxis]*([-1,1]*np.ones((5,2)))\n",
    ")\n",
    "medium_prior = qi.UniformDistribution(\n",
    "    true_value[:,np.newaxis] + \n",
    "    10*target_stds[:,np.newaxis]*([-1,1]*np.ones((5,2)))\n",
    ")\n",
    "\n",
    "drift_prior = qi.UniformDistribution(\n",
    "    [[0.008,0.0012],[0.002,0.005],[0,0.0001],[0,0.0001],[0,0.00001]]\n",
    ")"
   ]
  },
  {
   "cell_type": "code",
   "execution_count": 6,
   "metadata": {
    "collapsed": true
   },
   "outputs": [],
   "source": [
    "ham_model = m.RabiRamseyModel()\n",
    "ref_model = m.ReferencedPoissonModel(ham_model)"
   ]
  },
  {
   "cell_type": "markdown",
   "metadata": {},
   "source": [
    "## Test Experiment Runners"
   ]
  },
  {
   "cell_type": "markdown",
   "metadata": {},
   "source": [
    "Here is a simulation based experiment runner:"
   ]
  },
  {
   "cell_type": "code",
   "execution_count": 7,
   "metadata": {},
   "outputs": [
    {
     "data": {
      "text/plain": [
       "[<matplotlib.lines.Line2D at 0x110277110>,\n",
       " <matplotlib.lines.Line2D at 0x110277310>,\n",
       " <matplotlib.lines.Line2D at 0x110277450>]"
      ]
     },
     "execution_count": 7,
     "metadata": {},
     "output_type": "execute_result"
    },
    {
     "data": {
      "image/png": "[encoded data removed]",
      "text/plain": [
       "<matplotlib.figure.Figure at 0x10cb01a10>"
      ]
     },
     "metadata": {},
     "output_type": "display_data"
    }
   ],
   "source": [
    "sim = SimulatedRabiRamseyExperimentRunner(true_value)\n",
    "rabi_eps = rabi_sweep(max_t=0.3,n=50,n_meas=100000)\n",
    "results = np.empty((rabi_eps.size, 3))\n",
    "for idx, eps in enumerate(rabi_eps):\n",
    "    job = sim.run_experiment(np.atleast_1d(eps))\n",
    "    while not job.is_complete:\n",
    "        sleep(0.01)\n",
    "    results[idx, :] = job.get_result().triplet\n",
    "plt.plot(results)"
   ]
  },
  {
   "cell_type": "markdown",
   "metadata": {},
   "source": [
    "Now the same thing with real data:"
   ]
  },
  {
   "cell_type": "markdown",
   "metadata": {},
   "source": [
    "sim = RealRabiRamseyExperimentRunner(service)\n",
    "rabi_eps = rabi_sweep(max_t=0.3,n=2,n_meas=100000)\n",
    "results = np.empty((rabi_eps.size, 3))\n",
    "for idx, eps in enumerate(rabi_eps):\n",
    "    job = sim.run_experiment(np.atleast_1d(eps))\n",
    "    while not job.is_complete:\n",
    "        sleep(0.5)\n",
    "    results[idx, :] = job.get_result().triplet\n",
    "plt.plot(results)"
   ]
  },
  {
   "cell_type": "markdown",
   "metadata": {},
   "source": [
    "## Heuristic Testing with Experimental Data"
   ]
  },
  {
   "cell_type": "markdown",
   "metadata": {},
   "source": [
    "This is a copy of the physical hardware that runs experiments:"
   ]
  },
  {
   "cell_type": "code",
   "execution_count": 8,
   "metadata": {
    "collapsed": true
   },
   "outputs": [],
   "source": [
    "experiment = RealRabiRamseyExperimentRunner(service)"
   ]
  },
  {
   "cell_type": "markdown",
   "metadata": {},
   "source": [
    "A helper function to instantiate new updaters (note the wide_prior, and 10000 particles):"
   ]
  },
  {
   "cell_type": "code",
   "execution_count": 9,
   "metadata": {
    "collapsed": true
   },
   "outputs": [],
   "source": [
    "def make_updater():\n",
    "    model = qi.DirectViewParallelizedModel(\n",
    "        qi.GaussianRandomWalkModel(\n",
    "            m.ReferencedPoissonModel(m.RabiRamseyModel()),\n",
    "            random_walk_idxs=[5,6],\n",
    "            diagonal=False,\n",
    "            scale_mult=experiment_time\n",
    "        ), \n",
    "        dview, \n",
    "        serial_threshold=1\n",
    "    )\n",
    "    updater = m.BridgedRPMUpdater(model, 10000, qi.ProductDistribution(wide_prior, drift_prior))\n",
    "    return updater"
   ]
  },
  {
   "cell_type": "markdown",
   "metadata": {},
   "source": [
    "For simplicity, we choose to run every single experiment at 100000 repetitions. This is set here."
   ]
  },
  {
   "cell_type": "code",
   "execution_count": null,
   "metadata": {
    "collapsed": true
   },
   "outputs": [],
   "source": [
    "n_meas = 100000"
   ]
  },
  {
   "cell_type": "markdown",
   "metadata": {},
   "source": [
    "### Linear Heuristic"
   ]
  },
  {
   "cell_type": "markdown",
   "metadata": {},
   "source": [
    "The linear heuristic consists of alternating between Rabi and Ramsey experiments, where the pulsing time of the Ramsey experiment is based on the current best estimate of the rabi strength."
   ]
  },
  {
   "cell_type": "code",
   "execution_count": null,
   "metadata": {},
   "outputs": [
    {
     "name": "stdout",
     "output_type": "stream",
     "text": [
      "Current Trial: 0\n"
     ]
    },
    {
     "data": {
      "text/html": [
       "<div>\n",
       "<style>\n",
       "    .dataframe thead tr:only-child th {\n",
       "        text-align: right;\n",
       "    }\n",
       "\n",
       "    .dataframe thead th {\n",
       "        text-align: left;\n",
       "    }\n",
       "\n",
       "    .dataframe tbody tr th {\n",
       "        vertical-align: top;\n",
       "    }\n",
       "</style>\n",
       "<table border=\"1\" class=\"dataframe\">\n",
       "  <thead>\n",
       "    <tr style=\"text-align: right;\">\n",
       "      <th></th>\n",
       "      <th>expparam</th>\n",
       "      <th>bright</th>\n",
       "      <th>dark</th>\n",
       "      <th>signal</th>\n",
       "      <th>completed_ts</th>\n",
       "      <th>returned_ts</th>\n",
       "      <th>submitted_ts</th>\n",
       "      <th>diff_time</th>\n",
       "      <th>run_time</th>\n",
       "      <th>wall_time</th>\n",
       "      <th>...</th>\n",
       "      <th>eff_num_bits</th>\n",
       "      <th>cum_eff_num_bits</th>\n",
       "      <th>heuristic</th>\n",
       "      <th>heuristic_value</th>\n",
       "      <th>smc_mean</th>\n",
       "      <th>smc_cov</th>\n",
       "      <th>smc_n_eff_particles</th>\n",
       "      <th>smc_resample_count</th>\n",
       "      <th>smc_upper_quantile</th>\n",
       "      <th>smc_lower_quantile</th>\n",
       "    </tr>\n",
       "  </thead>\n",
       "  <tbody>\n",
       "    <tr>\n",
       "      <th>0</th>\n",
       "      <td>NaN</td>\n",
       "      <td>NaN</td>\n",
       "      <td>NaN</td>\n",
       "      <td>NaN</td>\n",
       "      <td>2017-12-20 21:59:53.573774</td>\n",
       "      <td>2017-12-20 21:59:53.573774</td>\n",
       "      <td>2017-12-20 21:59:53.573774</td>\n",
       "      <td>0 days</td>\n",
       "      <td>0 days</td>\n",
       "      <td>0 days</td>\n",
       "      <td>...</td>\n",
       "      <td>0</td>\n",
       "      <td>0</td>\n",
       "      <td>Standard Linear Heuristic (with tracking)</td>\n",
       "      <td>None</td>\n",
       "      <td>[10.0259098557, 5.02918324999, 0.0140975944682...</td>\n",
       "      <td>[[33.0412132001, 0.0739803321281, 0.1318857641...</td>\n",
       "      <td>10000.0</td>\n",
       "      <td>0</td>\n",
       "      <td>[18.9115465572, 9.50904222521, 4.50538177787, ...</td>\n",
       "      <td>[1.01129151127, 0.517597709995, -4.50615597826...</td>\n",
       "    </tr>\n",
       "  </tbody>\n",
       "</table>\n",
       "<p>1 rows × 24 columns</p>\n",
       "</div>"
      ],
      "text/plain": [
       "   expparam  bright  dark  signal               completed_ts  \\\n",
       "0       NaN     NaN   NaN     NaN 2017-12-20 21:59:53.573774   \n",
       "\n",
       "                 returned_ts               submitted_ts diff_time run_time  \\\n",
       "0 2017-12-20 21:59:53.573774 2017-12-20 21:59:53.573774    0 days   0 days   \n",
       "\n",
       "  wall_time                        ...                         eff_num_bits  \\\n",
       "0    0 days                        ...                                    0   \n",
       "\n",
       "  cum_eff_num_bits                                  heuristic  \\\n",
       "0                0  Standard Linear Heuristic (with tracking)   \n",
       "\n",
       "   heuristic_value                                           smc_mean  \\\n",
       "0             None  [10.0259098557, 5.02918324999, 0.0140975944682...   \n",
       "\n",
       "                                             smc_cov smc_n_eff_particles  \\\n",
       "0  [[33.0412132001, 0.0739803321281, 0.1318857641...             10000.0   \n",
       "\n",
       "  smc_resample_count                                 smc_upper_quantile  \\\n",
       "0                  0  [18.9115465572, 9.50904222521, 4.50538177787, ...   \n",
       "\n",
       "                                  smc_lower_quantile  \n",
       "0  [1.01129151127, 0.517597709995, -4.50615597826...  \n",
       "\n",
       "[1 rows x 24 columns]"
      ]
     },
     "metadata": {},
     "output_type": "display_data"
    },
    {
     "name": "stderr",
     "output_type": "stream",
     "text": [
      "/Users/ihincks/miniconda2/envs/nvadapt/lib/python2.7/site-packages/qinfer/distributions.py:296: RuntimeWarning: divide by zero encountered in double_scalars\n",
      "  return 1 / (np.sum(self.particle_weights**2))\n"
     ]
    }
   ],
   "source": [
    "n_trials = 50\n",
    "n_eps = 100\n",
    "\n",
    "panel_linear = HeuristicData('../data/linear_heuristic_3.pkl')\n",
    "\n",
    "def make_heuristic():\n",
    "    return TrackingHeuristic(\n",
    "        LinearHeuristic(make_updater(), max_t=0.3, max_tau=2, n=int(n_eps/2), n_meas=n_meas),\n",
    "        cutoff=0.85,\n",
    "        track_on_initial_reference=True,\n",
    "        std_mult=3\n",
    "    )\n",
    "\n",
    "for idx_trial in range(panel_linear.n_dataframes, n_trials):\n",
    "    # construct heuristic and initialize reference prior empirically\n",
    "    heuristic = make_heuristic()\n",
    "    heuristic.take_initial_reference(experiment)\n",
    "    \n",
    "    # construct storage object for this trial\n",
    "    df = new_experiment_dataframe(heuristic)\n",
    "    \n",
    "    # decide on first experiment\n",
    "    tp_est = np.round(1 / heuristic.updater.est_mean()[0] / 4 / 0.002) * 0.002\n",
    "    eps, precede_by_tracking = heuristic(tp_est)\n",
    "    \n",
    "    for idx_eps in range(n_eps-1):\n",
    "        # print current status\n",
    "        clear_output()\n",
    "        print 'Current Trial: {}'.format(idx_trial)\n",
    "        display(df)\n",
    "        \n",
    "        # submit experiment job\n",
    "        job = experiment.run_experiment(eps, precede_by_tracking)\n",
    "\n",
    "        # reset the prior on the references if we just instructed a tracking operation\n",
    "        if precede_by_tracking:\n",
    "            heuristic.reset_reference_prior()\n",
    "        \n",
    "        # decide on next experiment while job is running\n",
    "        tp_est = np.round(1 / heuristic.updater.est_mean()[0] / 4 / 0.002) * 0.002\n",
    "        eps, precede_by_tracking = heuristic(tp_est)\n",
    "        \n",
    "        # wait for job to complete\n",
    "        while not job.is_complete:\n",
    "            sleep(0.2)\n",
    "            \n",
    "        # update current state of knowledge\n",
    "        result = job.get_result()\n",
    "        eps['mode'] = ref_model.BRIGHT\n",
    "        bright = heuristic.updater.update(result.bright, eps)\n",
    "        eps['mode'] = ref_model.DARK\n",
    "        dark = heuristic.updater.update(result.dark, eps)\n",
    "        eps['mode'] = ref_model.SIGNAL\n",
    "        signal = heuristic.updater.update(result.signal, eps)\n",
    "        \n",
    "        # store results\n",
    "        df = append_experiment_data(df, \n",
    "                expparam=eps, \n",
    "                heuristic=heuristic, \n",
    "                job=job,\n",
    "                heuristic_value=None\n",
    "            )\n",
    "        \n",
    "    # save results in panel\n",
    "    panel_linear.append(df)\n",
    "    panel_linear.save()"
   ]
  },
  {
   "cell_type": "code",
   "execution_count": null,
   "metadata": {},
   "outputs": [],
   "source": [
    "heuristic._initial_dark_mean"
   ]
  },
  {
   "cell_type": "code",
   "execution_count": 12,
   "metadata": {},
   "outputs": [
    {
     "data": {
      "text/plain": [
       "[<matplotlib.lines.Line2D at 0x117ab85d0>]"
      ]
     },
     "execution_count": 12,
     "metadata": {},
     "output_type": "execute_result"
    },
    {
     "data": {
      "image/png": "[encoded data removed]",
      "text/plain": [
       "<matplotlib.figure.Figure at 0x117a9b850>"
      ]
     },
     "metadata": {},
     "output_type": "display_data"
    }
   ],
   "source": [
    "heuristic.updater.plot_posterior_marginal(7)"
   ]
  },
  {
   "cell_type": "code",
   "execution_count": 17,
   "metadata": {},
   "outputs": [
    {
     "data": {
      "image/png": "[encoded data removed]",
      "text/plain": [
       "<matplotlib.figure.Figure at 0x113dc2c50>"
      ]
     },
     "metadata": {},
     "output_type": "display_data"
    }
   ],
   "source": [
    "for idx_param in range(5,7):\n",
    "    plt.plot(np.array(list(df['smc_mean']))[:,idx_param])\n",
    "    plt.fill_between(\n",
    "        np.arange(np.array(list(df['smc_mean'])).shape[0]),\n",
    "        np.array(list(df['smc_lower_quantile']))[:,idx_param],\n",
    "        np.array(list(df['smc_upper_quantile']))[:,idx_param],\n",
    "        alpha=0.3\n",
    "    )\n",
    "    plt.title('${}$'.format(ref_model.modelparam_names[idx_param]))\n",
    "    plt.ylabel('MHz')"
   ]
  },
  {
   "cell_type": "code",
   "execution_count": 13,
   "metadata": {},
   "outputs": [
    {
     "data": {
      "text/plain": [
       "<matplotlib.text.Text at 0x11841f750>"
      ]
     },
     "execution_count": 13,
     "metadata": {},
     "output_type": "execute_result"
    },
    {
     "data": {
      "image/png": "[encoded data removed]",
      "text/plain": [
       "<matplotlib.figure.Figure at 0x11721e310>"
      ]
     },
     "metadata": {},
     "output_type": "display_data"
    }
   ],
   "source": [
    "idx_param=0\n",
    "plt.plot(np.array(list(df['smc_mean']))[:,idx_param])\n",
    "plt.fill_between(\n",
    "    np.arange(np.array(list(df['smc_mean'])).shape[0]),\n",
    "    np.array(list(df['smc_lower_quantile']))[:,idx_param],\n",
    "    np.array(list(df['smc_upper_quantile']))[:,idx_param],\n",
    "    alpha=0.3\n",
    ")\n",
    "plt.title('${}$'.format(ham_model.modelparam_names[idx_param]))\n",
    "plt.ylabel('MHz')"
   ]
  },
  {
   "cell_type": "code",
   "execution_count": 30,
   "metadata": {},
   "outputs": [
    {
     "data": {
      "text/plain": [
       "<matplotlib.text.Text at 0x10e0a2810>"
      ]
     },
     "execution_count": 30,
     "metadata": {},
     "output_type": "execute_result"
    },
    {
     "data": {
      "image/png": "[encoded data removed]",
      "text/plain": [
       "<matplotlib.figure.Figure at 0x10e18b790>"
      ]
     },
     "metadata": {},
     "output_type": "display_data"
    }
   ],
   "source": [
    "idx_param=1\n",
    "plt.plot(np.array(list(df['smc_mean']))[:,idx_param])\n",
    "plt.fill_between(\n",
    "    np.arange(np.array(list(df['smc_mean'])).shape[0]),\n",
    "    np.array(list(df['smc_lower_quantile']))[:,idx_param],\n",
    "    np.array(list(df['smc_upper_quantile']))[:,idx_param],\n",
    "    alpha=0.3\n",
    ")\n",
    "plt.title('${}$'.format(ham_model.modelparam_names[idx_param]))\n",
    "plt.ylabel('MHz')"
   ]
  },
  {
   "cell_type": "markdown",
   "metadata": {
    "heading_collapsed": true
   },
   "source": [
    "## Old"
   ]
  },
  {
   "cell_type": "code",
   "execution_count": null,
   "metadata": {
    "collapsed": true,
    "hidden": true
   },
   "outputs": [],
   "source": [
    "n_meas = 100000\n",
    "n_particles = 2000\n",
    "n_experiments = 100\n",
    "n_trials = 1\n",
    "\n",
    "sim = SimulatedRabiRamseyExperimentRunner(true_value)\n",
    "\n",
    "def make_updater():\n",
    "    return qi.DirectViewParallelizedModel(\n",
    "        qi.GaussianRandomWalkModel(\n",
    "            m.ReferencedPoissonModel(m.RabiRamseyModel()),\n",
    "            random_walk_idxs=[5,6],\n",
    "            diagonal=False,\n",
    "            scale_mult=experiment_time\n",
    "        ), \n",
    "        dview, \n",
    "        serial_threshold=1\n",
    "    )\n",
    "\n",
    "Q = np.array([1,1,0,0,0])\n",
    "\n",
    "heuristics = []\n",
    "\n",
    "track_means = np.zeros((n_trials, n_experiments + 1, 10))\n",
    "track_covs = np.zeros((n_trials, n_experiments + 1, 10, 10))\n",
    "\n",
    "for idx_trial in range(n_trials):\n",
    "    heuristic = RiskHeuristic(\n",
    "        qi.SMCUpdater(make_updater(), n_particles, qi.ProductDistribution(wide_prior,drift_prior)), \n",
    "        Q, \n",
    "        rabi_sweep(max_t=0.5, n=50, n_meas=n_meas), \n",
    "        ramsey_sweep(max_tau=2, n=50, n_meas=n_meas)\n",
    "    )\n",
    "    heuristics.append(heuristic)\n",
    "    updater = heuristic.updater\n",
    "\n",
    "    track_means[idx_trial, 0, :] = heuristic.updater.est_mean()\n",
    "    track_covs[idx_trial, 0, :, :] = heuristic.updater.est_covariance_mtx()\n",
    "\n",
    "    for idx_eps in range(n_experiments):\n",
    "\n",
    "        #estimate ramsey pulse time\n",
    "        current_est = updater.est_mean()\n",
    "        tp_est = np.round(1 / current_est[0] / 4 / 0.002) * 0.002\n",
    "\n",
    "        #decide experiment\n",
    "        eps = heuristic(tp_est)\n",
    "        print(\"{}: {} : {}\".format(idx_eps, heuristic.name, eps[0])), np.round(1000 * np.sqrt(np.diag(updater.est_covariance_mtx())))\n",
    "\n",
    "        # simulate outcome\n",
    "        outcome = sim.run_experiment(eps)\n",
    "\n",
    "        # update\n",
    "        eps['mode'] = ref_model.BRIGHT\n",
    "        bright = updater.update(outcome.bright, eps)\n",
    "        eps['mode'] = ref_model.DARK\n",
    "        dark = updater.update(outcome.dark, eps)\n",
    "        eps['mode'] = ref_model.SIGNAL\n",
    "        signal = updater.update(outcome.signal, eps)\n",
    "\n",
    "        # store info\n",
    "        track_means[idx_trial, idx_eps + 1, :] = updater.est_mean()\n",
    "        track_covs[idx_trial, idx_eps + 1, :, :] = updater.est_covariance_mtx()"
   ]
  },
  {
   "cell_type": "code",
   "execution_count": null,
   "metadata": {
    "collapsed": true,
    "hidden": true
   },
   "outputs": [],
   "source": [
    "idx_model = 0\n",
    "fig=plt.figure(figsize=(10,5))\n",
    "for idx_h in range(n_updaters):\n",
    "    h = heuristics[0][idx_h]\n",
    "    plt.semilogy(np.mean(np.sqrt(track_covs[:,idx_h,:,idx_model,idx_model]),axis=0), label=h.name)\n",
    "plt.legend(bbox_to_anchor=(1.05, 1.05))\n",
    "plt.title('${}$'.format(ham_model.modelparam_names[idx_model]))\n",
    "plt.xlabel('Experiment #')\n",
    "plt.ylabel('std (MHz)')\n",
    "export_figure(fig, 'qhl-wr-variance')"
   ]
  },
  {
   "cell_type": "code",
   "execution_count": null,
   "metadata": {
    "collapsed": true,
    "hidden": true
   },
   "outputs": [],
   "source": [
    "idx_model = 1\n",
    "fig=plt.figure(figsize=(10,5))\n",
    "for idx_h in range(n_updaters):\n",
    "    h = heuristics[0][idx_h]\n",
    "    plt.semilogy(np.mean(np.sqrt(track_covs[:,idx_h,:,idx_model,idx_model]),axis=0), label=h.name)\n",
    "plt.legend(bbox_to_anchor=(1.05, 1.05))\n",
    "plt.title('${}$'.format(ham_model.modelparam_names[idx_model]))\n",
    "plt.xlabel('Experiment #')\n",
    "plt.ylabel('std (MHz)')\n",
    "export_figure(fig, 'qhl-we-variance')"
   ]
  },
  {
   "cell_type": "code",
   "execution_count": null,
   "metadata": {
    "collapsed": true,
    "hidden": true,
    "scrolled": true
   },
   "outputs": [],
   "source": [
    "idx_model = 3\n",
    "fig=plt.figure(figsize=(10,5))\n",
    "for idx_h in range(n_updaters):\n",
    "    h = heuristics[0][idx_h]\n",
    "    plt.semilogy(np.mean(np.sqrt(track_covs[:,idx_h,:,idx_model,idx_model]),axis=0), label=h.name)\n",
    "plt.legend(bbox_to_anchor=(1.05, 1.05))\n",
    "plt.title('${}$'.format(ham_model.modelparam_names[idx_model]))\n",
    "plt.xlabel('Experiment #')\n",
    "plt.ylabel('std (MHz)')\n",
    "export_figure(fig, 'qhl-AN-variance')"
   ]
  },
  {
   "cell_type": "markdown",
   "metadata": {
    "hidden": true
   },
   "source": [
    "### Lookahead Heuristic"
   ]
  },
  {
   "cell_type": "markdown",
   "metadata": {
    "hidden": true
   },
   "source": [
    "It would be beneficial to do risk calculations at the same time as experiments, since both tasks are time consuming. The problem, however, is that calculating the best next experiment to do next relies on the latest data, which we would not have if we are doing experiments and calculations concurrently. Three ideas:\n",
    " - Scrap concurrency, and just alternate between experiments and next best experiment simulations\n",
    " - Choose the next experiment based on the previous posterior, so that one is always slightly out of touch\n",
    " - Marginalize the heuristic over the hypothetical outcomes of the currently running experiment"
   ]
  },
  {
   "cell_type": "code",
   "execution_count": null,
   "metadata": {
    "collapsed": true,
    "hidden": true
   },
   "outputs": [],
   "source": [
    "def lookahead_bayes_risk(updater, first_expparams, second_expparams):\n",
    "    \n",
    "    # assume n_out1==n_out2==n_out for convenience\n",
    "    n_out = updater.model.n_outcomes(np.atleast_1d(first_expparams)[0])\n",
    "    n_eps1 = first_expparams.size\n",
    "    n_eps2 = second_expparams.size\n",
    "    \n",
    "    # compute all likelihoods\n",
    "    # the likelihood over outcomes should sum to 1, so don't compute for last outcome for efficiency\n",
    "    L = updater.model.likelihood(\n",
    "            np.arange(n_out-1), \n",
    "            updater.particle_locations,\n",
    "            np.concatenate([first_expparams, second_expparams])\n",
    "        )\n",
    "    L = np.concatenate([L, (1 - L.sum(axis=0))[np.newaxis, ...]], axis=0).transpose((0,2,1))\n",
    "    L1 = L[:, :first_expparams.size, :]              # L1.shape == (n_out1, n_eps1, n_particles)\n",
    "    L2 = L[:, first_expparams.size:, :]              # L1.shape == (n_out2, n_eps2, n_particles)\n",
    "    \n",
    "    # compute the hypothetical posterior weights after the first hypothetical experiments, w_hyp1\n",
    "    # and compute the hypothetical outcome probabilities, N1\n",
    "    w_hyp1 = L1 * updater.particle_weights[np.newaxis, np.newaxis, :]\n",
    "    \n",
    "    # compute the hypothetical posterior weights after all \n",
    "    # combinations of first and second expparams and outcomes\n",
    "    w_hyp12 = w_hyp1[:, np.newaxis, :,  np.newaxis, :] * L2[np.newaxis, :, np.newaxis, :, :]\n",
    "    N12 = np.sum(w_hyp12, axis=4)                    # N12.shape = (n_out1, n_out2, n_eps1, n_eps2)\n",
    "    w_hyp12 = w_hyp12 / N12[:, :, :, :, np.newaxis]  # w_hyp12.shape = (n_out1, n_out2, n_eps1, n_eps2, n_particles)\n",
    "\n",
    "    # compute the hypothetical means and variances given outcomes and exparams\n",
    "    # mu_hyp12.shape == (n_out1, n_out2, n_eps1, n_eps2, n_models)\n",
    "    # var_hyp12.shape == (n_out1, n_out2, n_eps1, n_eps2)\n",
    "    mu_hyp12 = np.dot(w_hyp12, updater.particle_locations)\n",
    "    var_hyp12 = np.sum(\n",
    "        w_hyp12 * \n",
    "        np.sum(updater.model.Q * (\n",
    "            updater.particle_locations[np.newaxis, np.newaxis,np.newaxis,np.newaxis,:,:] - \n",
    "            mu_hyp12[:,:,:,:,np.newaxis,:]\n",
    "        ) ** 2,  axis=5),\n",
    "        axis=4\n",
    "    )\n",
    "    \n",
    "    # the risk of a given expparam can be calculated as the mean posterior\n",
    "    # variance weighted over all possible outcomes\n",
    "    return np.sum(np.sum(N12 * var_hyp12, axis=0), axis=0)\n",
    "\n",
    "class LookAheadRiskHeuristic(qi.Heuristic):\n",
    "    def __init__(self, updater, Q, rabi_eps, ramsey_eps, name=None):\n",
    "        self.updater = updater\n",
    "        if not parallel:\n",
    "            self._ham_model = m.RabiRamseyModel()\n",
    "        else:\n",
    "            self._ham_model = qi.DirectViewParallelizedModel(m.RabiRamseyModel(), dview, serial_threshold=1)\n",
    "        self._ham_model._Q = Q\n",
    "        self._risk_taker = qi.SMCUpdater(self._ham_model, updater.n_particles, wide_prior)\n",
    "        self._update_risk_particles()\n",
    "        self._rabi_eps = rabi_eps\n",
    "        self._ramsey_eps = ramsey_eps\n",
    "        self.name = \"Look-Ahead Bayes Risk, Q={}\".format(Q) if name is None else name\n",
    "        self.risk_history = []\n",
    "        \n",
    "    def _update_risk_particles(self):\n",
    "        self._risk_taker.particle_locations = self.updater.particle_locations\n",
    "        self._risk_taker.particle_weights = self.updater.particle_weights\n",
    "        \n",
    "    def __call__(self, current_eps, tp):\n",
    "        ramsey_eps = self._ramsey_eps\n",
    "        ramsey_eps['t'] = tp\n",
    "        all_eps = np.concatenate([self._rabi_eps, ramsey_eps])\n",
    "        \n",
    "        self._update_risk_particles()\n",
    "        \n",
    "        risk = lookahead_bayes_risk(self._risk_taker, current_eps, all_eps)[0,:]\n",
    "        self.risk_history += [risk]\n",
    "        best_idx = np.argmin(risk, axis=0)\n",
    "        eps = np.array([all_eps[best_idx]])\n",
    "        return eps"
   ]
  },
  {
   "cell_type": "code",
   "execution_count": null,
   "metadata": {
    "collapsed": true,
    "hidden": true
   },
   "outputs": [],
   "source": [
    "updater = qi.SMCUpdater(qi.DirectViewParallelizedModel(ham_model,dview), 5000, medium_prior)\n",
    "rabi_eps = rabi_sweep(max_t=0.3,n=50)\n",
    "ramsey_eps = ramsey_sweep(max_tau=2,n=50)\n",
    "%timeit -n1 -r1 lookahead_bayes_risk(updater, rabi_eps[4,np.newaxis], rabi_eps)\n",
    "%timeit -n1 -r1 updater.bayes_risk(rabi_eps)"
   ]
  },
  {
   "cell_type": "code",
   "execution_count": null,
   "metadata": {
    "collapsed": true,
    "hidden": true
   },
   "outputs": [],
   "source": [
    "updater = qi.SMCUpdater(qi.DirectViewParallelizedModel(ham_model,dview), 5000, medium_prior)\n",
    "rabi_eps = rabi_sweep(max_t=0.3,n=50)\n",
    "ramsey_eps = ramsey_sweep(max_tau=2,n=50)\n",
    "lbr = lookahead_bayes_risk(updater, rabi_eps, rabi_eps)\n",
    "fig = plt.figure()\n",
    "plt.imshow(lbr, extent=[np.min(ramsey_eps['tau']),np.max(ramsey_eps['tau']),np.min(ramsey_eps['tau']),np.max(ramsey_eps['tau'])])\n",
    "plt.title('Look-ahead Bayes Risk for \\nback-to-back Ramsey Experiments')\n",
    "plt.xlabel('Ramsey #1 t $(\\mu s)$')\n",
    "plt.ylabel('Ramsey #2 t $(\\mu s)$')\n",
    "export_figure(fig, 'risk-look-ahead')"
   ]
  },
  {
   "cell_type": "code",
   "execution_count": null,
   "metadata": {
    "collapsed": true,
    "hidden": true
   },
   "outputs": [],
   "source": [
    "n_bin = 10\n",
    "n_particles = 2000\n",
    "n_experiments = 100\n",
    "n_trials = 50\n",
    "\n",
    "def make_updater():\n",
    "    if not parallel:\n",
    "        return qi.BinomialModel(m.RabiRamseyModel())\n",
    "    else:\n",
    "        return qi.DirectViewParallelizedModel(qi.BinomialModel(m.RabiRamseyModel()), dview, serial_threshold=1)\n",
    "\n",
    "Q = np.array([1,1,0,0,0])\n",
    "n_updaters=3\n",
    "\n",
    "heuristics_hal = []\n",
    "\n",
    "track_means_lah = np.zeros((n_trials, n_updaters, n_experiments + 1, 5))\n",
    "track_covs_lah = np.zeros((n_trials, n_updaters, n_experiments + 1, 5, 5))\n",
    "\n",
    "for idx_trial in range(n_trials):\n",
    "    print \"Starting Trial {}\".format(idx_trial)\n",
    "    print \"=================\"\n",
    "    \n",
    "    heuristics_hal.append([])\n",
    "    heuristics_hal[-1] = [\n",
    "        RiskHeuristic(\n",
    "            qi.SMCUpdater(make_updater(), n_particles, wide_prior), \n",
    "            Q, \n",
    "            rabi_sweep(max_t=0.5, n=50, n_bin=n_bin), \n",
    "            ramsey_sweep(max_tau=2, n=50, n_bin=n_bin),\n",
    "            name='Bayes Risk: Alternating    '\n",
    "        ),\n",
    "        RiskHeuristic(\n",
    "            qi.SMCUpdater(make_updater(), n_particles, wide_prior), \n",
    "            Q, \n",
    "            rabi_sweep(max_t=0.5, n=50, n_bin=n_bin), \n",
    "            ramsey_sweep(max_tau=2, n=50, n_bin=n_bin),\n",
    "            name='Bayes Risk: Old Information'\n",
    "        ),\n",
    "        LookAheadRiskHeuristic(\n",
    "            qi.SMCUpdater(make_updater(), n_particles, wide_prior), \n",
    "            Q, \n",
    "            rabi_sweep(max_t=0.5, n=50, n_bin=n_bin), \n",
    "            ramsey_sweep(max_tau=2, n=50, n_bin=n_bin),\n",
    "            name='Bayes Risk: Look-Ahead     '\n",
    "        ),\n",
    "    ]\n",
    "    \n",
    "    for idx_h, h in enumerate(heuristics_hal[-1]):\n",
    "        track_means_lah[idx_trial,idx_h, 0, :] = h.updater.est_mean()\n",
    "        track_covs_lah[idx_trial,idx_h, 0, :, :] = h.updater.est_covariance_mtx()\n",
    "        \n",
    "    # heuristics 1 and 2 require an initial experiment to run\n",
    "    eps0 = None\n",
    "    current_est = heuristics_hal[-1][1].updater.est_mean()\n",
    "    tp_est = np.round(1 / current_est[0] / 4 / 0.002) * 0.002\n",
    "    eps1 = heuristics_hal[-1][1](tp_est)\n",
    "    eps2 = eps1\n",
    "\n",
    "    for idx_eps in range(n_experiments):\n",
    "\n",
    "        #--------------------------------------------------------------------\n",
    "        # Alternating Heuristic: alternate experiments with risk optimization\n",
    "        \n",
    "        idx = 0\n",
    "        heuristic = heuristics_hal[-1][idx]\n",
    "        updater = heuristic.updater\n",
    "        #estimate ramsey pulse time\n",
    "        current_est = updater.est_mean()\n",
    "        tp_est = np.round(1 / current_est[0] / 4 / 0.002) * 0.002\n",
    "        #decide experiment\n",
    "        eps0 = heuristic(tp_est)\n",
    "        print(\"{}: {} : {}\".format(idx_eps, heuristic.name, eps0[0])), np.round(1000 * np.sqrt(np.diag(updater.est_covariance_mtx())))\n",
    "        # simulate outcome\n",
    "        outcome = updater.model.simulate_experiment(true_value[np.newaxis,:], eps0)\n",
    "        # update\n",
    "        updater.update(outcome, eps0)\n",
    "        \n",
    "        #--------------------------------------------------------------------\n",
    "        # Old Info Heuristic:    compute risk concurrently, but on the old \n",
    "        #                        posterior\n",
    "        \n",
    "        idx = 1\n",
    "        heuristic = heuristics_hal[-1][idx]\n",
    "        updater = heuristic.updater\n",
    "        # simulate outcome _before_ knowing best thing to do\n",
    "        outcome = updater.model.simulate_experiment(true_value[np.newaxis,:], eps1)\n",
    "        # \"simultaneously\" decide next experiment based on old distribution\n",
    "        current_est = updater.est_mean()\n",
    "        tp_est = np.round(1 / current_est[0] / 4 / 0.002) * 0.002\n",
    "        eps1_new = heuristic(tp_est)\n",
    "        print(\"{}: {} : {}\".format(idx_eps, heuristic.name, eps1_new[0])), np.round(1000 * np.sqrt(np.diag(updater.est_covariance_mtx())))\n",
    "        # now both the experiment and the simulation are done, do the update\n",
    "        updater.update(outcome, eps1)\n",
    "        eps1 = eps1_new\n",
    "        \n",
    "        #--------------------------------------------------------------------\n",
    "        # Look-Ahead Heuristic:  Take into account what we expect from the \n",
    "        #                        currently running experiment\n",
    "        \n",
    "        idx = 2\n",
    "        heuristic = heuristics_hal[-1][idx]\n",
    "        updater = heuristic.updater\n",
    "        # simulate outcome _before_ knowing best thing to do\n",
    "        outcome = updater.model.simulate_experiment(true_value[np.newaxis,:], eps2)\n",
    "        # \"simultaneously\" decide next experiment based on old distribution and currently running experiment\n",
    "        current_est = updater.est_mean()\n",
    "        tp_est = np.round(1 / current_est[0] / 4 / 0.002) * 0.002\n",
    "        eps2_new = heuristic(eps2, tp_est)\n",
    "        print(\"{}: {} : {}\".format(idx_eps, heuristic.name, eps2_new[0])), np.round(1000 * np.sqrt(np.diag(updater.est_covariance_mtx())))\n",
    "        # now both the experiment and the simulation are done, do the update\n",
    "        updater.update(outcome, eps2)\n",
    "        eps2 = eps2_new\n",
    "        \n",
    "        # store info\n",
    "        for idx_h, h in enumerate(heuristics_hal[-1]):\n",
    "            track_means_lah[idx_trial,idx_h, idx_eps, :] = h.updater.est_mean()\n",
    "            track_covs_lah[idx_trial,idx_h, idx_eps, :, :] = h.updater.est_covariance_mtx()\n",
    "        \n",
    "        print \"---\""
   ]
  },
  {
   "cell_type": "code",
   "execution_count": null,
   "metadata": {
    "collapsed": true,
    "hidden": true
   },
   "outputs": [],
   "source": [
    "idx_model = 1\n",
    "fig=plt.figure(figsize=(10,5))\n",
    "for idx_h in range(len(heuristics_hal)):\n",
    "    h = heuristics_hal[0][idx_h]\n",
    "    plt.semilogy(np.mean(np.sqrt(track_covs_lah[:,idx_h,:,idx_model,idx_model]),axis=0), label=h.name)\n",
    "plt.legend(bbox_to_anchor=(1.0, 1.0))\n",
    "plt.title('${}$'.format(ham_model.modelparam_names[idx_model]))\n",
    "plt.xlabel('Experiment #')\n",
    "plt.ylabel('std (MHz)')\n",
    "export_figure(fig, 'qhl-lah-we-variance')"
   ]
  },
  {
   "cell_type": "code",
   "execution_count": null,
   "metadata": {
    "collapsed": true,
    "hidden": true
   },
   "outputs": [],
   "source": []
  }
 ],
 "metadata": {
  "anaconda-cloud": {},
  "kernelspec": {
   "display_name": "Python [conda env:nvadapt]",
   "language": "python",
   "name": "conda-env-nvadapt-py"
  },
  "language_info": {
   "codemirror_mode": {
    "name": "ipython",
    "version": 2
   },
   "file_extension": ".py",
   "mimetype": "text/x-python",
   "name": "python",
   "nbconvert_exporter": "python",
   "pygments_lexer": "ipython2",
   "version": "2.7.13"
  }
 },
 "nbformat": 4,
 "nbformat_minor": 1
}
