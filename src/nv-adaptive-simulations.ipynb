{
 "cells": [
  {
   "cell_type": "markdown",
   "metadata": {},
   "source": [
    "# Testing Adaptation of Model"
   ]
  },
  {
   "cell_type": "markdown",
   "metadata": {
    "heading_collapsed": true
   },
   "source": [
    "### Import Modules"
   ]
  },
  {
   "cell_type": "code",
   "execution_count": 1,
   "metadata": {
    "collapsed": true,
    "hidden": true
   },
   "outputs": [],
   "source": [
    "%matplotlib inline\n",
    "import warnings\n",
    "warnings.filterwarnings('default', category=DeprecationWarning, module='.*/qinfer/.*')\n",
    "from __future__ import division # Ensures that a/b is always a float."
   ]
  },
  {
   "cell_type": "code",
   "execution_count": 2,
   "metadata": {
    "collapsed": true,
    "hidden": true
   },
   "outputs": [],
   "source": [
    "import matplotlib\n",
    "import numpy as np\n",
    "import matplotlib.pyplot as plt\n",
    "import qinfer as qi\n",
    "import models as m"
   ]
  },
  {
   "cell_type": "markdown",
   "metadata": {},
   "source": [
    "### Setup"
   ]
  },
  {
   "cell_type": "markdown",
   "metadata": {
    "hidden": true
   },
   "source": [
    "Plotting and exporting. Change the `overwrite` flag if you want regenerated figures to be saved to disk."
   ]
  },
  {
   "cell_type": "code",
   "execution_count": 3,
   "metadata": {
    "collapsed": true,
    "hidden": true
   },
   "outputs": [],
   "source": [
    "matplotlib.rcParams['mathtext.fontset'] = 'stix'\n",
    "matplotlib.rcParams['font.family'] = 'STIXGeneral'\n",
    "\n",
    "SIZE = 14\n",
    "plt.rc('font', size=SIZE)          # controls default text sizes\n",
    "plt.rc('axes', titlesize=SIZE)     # fontsize of the axes title\n",
    "plt.rc('axes', labelsize=SIZE)     # fontsize of the x any y labels\n",
    "plt.rc('xtick', labelsize=10)      # fontsize of the tick labels\n",
    "plt.rc('ytick', labelsize=10)      # fontsize of the tick labels\n",
    "plt.rc('legend', fontsize=SIZE)    # legend fontsize\n",
    "plt.rc('figure', titlesize=SIZE)   # size of the figure title\n",
    "\n",
    "overwrite = True\n",
    "def export_figure(fig, name, extensions=['.png', '.pdf']):\n",
    "    for ext in extensions:\n",
    "        fname = '../fig/' + name + ext\n",
    "        if not os.path.isfile(fname):\n",
    "            print('Saving {}'.format(fname))\n",
    "            fig.savefig(fname)\n",
    "        elif overwrite:\n",
    "            print('Overwriting {}'.format(fname))\n",
    "            fig.savefig(fname)\n",
    "        else:\n",
    "            print('Skipping {}'.format(fname))"
   ]
  },
  {
   "cell_type": "markdown",
   "metadata": {
    "heading_collapsed": true
   },
   "source": [
    "### Initialize QInfer Objects"
   ]
  },
  {
   "cell_type": "code",
   "execution_count": 6,
   "metadata": {
    "collapsed": true,
    "hidden": true
   },
   "outputs": [],
   "source": [
    "ham_model = m.RabiRamseyModel()"
   ]
  },
  {
   "cell_type": "markdown",
   "metadata": {
    "hidden": true
   },
   "source": [
    "Model parameters:\n",
    "   - 0: :math:`\\Omega`, Rabi strength (MHz); coefficient of Sx\n",
    "   - 1: :math:`\\omega_e`, Zeeman frequency (MHz); coefficient of Sz\n",
    "   - 2: :math:`\\Delta \\omega_c`, ZFS detuning (MHz); coefficient of Sz^2\n",
    "   - 3: :math:`\\A_N`, Nitrogen hyperfine splitting (MHz); modeled as incoherent average  \n",
    "   - 4: :math:`T_2^-1`, inverse of electron T2* (MHz)\n",
    "   - 5: :math:`\\Omega_\\text{Ramsey}`, the Rabi strength (MHz) while doing a Ramsey experiment\n",
    "\n",
    "Experiment parameters:\n",
    " - mode: Specifies whether a reference or signal count is being performed.\n",
    " - t:   Pulse width\n",
    " - tau: Ramsey wait time (only relevent if mode is `RabiRamseyModel.RAMSEY`)\n",
    " - phi: Ramsey phase between pulses (\")"
   ]
  },
  {
   "cell_type": "code",
   "execution_count": 7,
   "metadata": {
    "collapsed": true,
    "hidden": true
   },
   "outputs": [],
   "source": [
    "model_prior = qi.UniformDistribution(np.array([\n",
    "            [0,10],\n",
    "            [0,10],\n",
    "            [-5,5],\n",
    "            [1.5,3.5],\n",
    "            [100**-1,1**-1],\n",
    "            [0,0]\n",
    "        ]))"
   ]
  },
  {
   "cell_type": "code",
   "execution_count": 11,
   "metadata": {
    "collapsed": true
   },
   "outputs": [],
   "source": [
    "updater = qi.SMCUpdater(ham_model, 5000, model_prior)"
   ]
  },
  {
   "cell_type": "code",
   "execution_count": 25,
   "metadata": {
    "collapsed": false
   },
   "outputs": [],
   "source": [
    "n_rabi, n_ramsey = 51, 51\n",
    "rabi_eps = np.array([\n",
    "    np.linspace(0, 0.3, n_rabi),\n",
    "    np.zeros(n_rabi),\n",
    "    np.zeros(n_rabi),\n",
    "    np.ones(n_rabi) * ham_model.RABI\n",
    "]).T\n",
    "rabi_eps = np.array(list(zip(*rabi_eps.T)), dtype=ham_model.expparams_dtype)\n",
    "\n",
    "ramsey_eps = np.array([\n",
    "    np.zeros(n_ramsey),\n",
    "    np.linspace(0, 2, n_ramsey),\n",
    "    np.zeros(n_ramsey),\n",
    "    np.ones(n_rabi) * ham_model.RAMSEY\n",
    "]).T\n",
    "ramsey_eps = np.array(list(zip(*ramsey_eps.T)), dtype=ham_model.expparams_dtype)\n",
    "\n",
    "all_eps = np.concatenate([rabi_eps, ramsey_eps])"
   ]
  },
  {
   "cell_type": "markdown",
   "metadata": {},
   "source": [
    "### Speed Tests"
   ]
  },
  {
   "cell_type": "code",
   "execution_count": 28,
   "metadata": {
    "collapsed": false
   },
   "outputs": [
    {
     "name": "stdout",
     "output_type": "stream",
     "text": [
      "1 loop, best of 1: 15.7 s per loop\n"
     ]
    }
   ],
   "source": [
    "%timeit -n1 -r1 ham_model.likelihood(1, model_prior.sample(1000), all_eps)"
   ]
  },
  {
   "cell_type": "code",
   "execution_count": null,
   "metadata": {
    "collapsed": true
   },
   "outputs": [],
   "source": []
  }
 ],
 "metadata": {
  "anaconda-cloud": {},
  "kernelspec": {
   "display_name": "Python [conda env:nvmeas]",
   "language": "python",
   "name": "conda-env-nvmeas-py"
  },
  "language_info": {
   "codemirror_mode": {
    "name": "ipython",
    "version": 2
   },
   "file_extension": ".py",
   "mimetype": "text/x-python",
   "name": "python",
   "nbconvert_exporter": "python",
   "pygments_lexer": "ipython2",
   "version": "2.7.13"
  }
 },
 "nbformat": 4,
 "nbformat_minor": 1
}
