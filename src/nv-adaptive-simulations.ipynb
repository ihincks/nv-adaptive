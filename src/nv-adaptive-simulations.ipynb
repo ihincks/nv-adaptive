{
 "cells": [
  {
   "cell_type": "markdown",
   "metadata": {},
   "source": [
    "# Testing Adaptation of Model"
   ]
  },
  {
   "cell_type": "markdown",
   "metadata": {
    "heading_collapsed": true
   },
   "source": [
    "### Import Modules"
   ]
  },
  {
   "cell_type": "code",
   "execution_count": 1,
   "metadata": {
    "collapsed": true,
    "hidden": true
   },
   "outputs": [],
   "source": [
    "%matplotlib inline\n",
    "import warnings\n",
    "warnings.filterwarnings('default', category=DeprecationWarning, module='.*/qinfer/.*')\n",
    "from __future__ import division # Ensures that a/b is always a float."
   ]
  },
  {
   "cell_type": "code",
   "execution_count": 2,
   "metadata": {
    "collapsed": false,
    "hidden": true
   },
   "outputs": [
    {
     "data": {
      "text/plain": [
       "<module 'models' from 'models.pyc'>"
      ]
     },
     "execution_count": 2,
     "metadata": {},
     "output_type": "execute_result"
    }
   ],
   "source": [
    "import matplotlib\n",
    "import numpy as np\n",
    "import matplotlib.pyplot as plt\n",
    "import qinfer as qi\n",
    "import models as m\n",
    "\n",
    "reload(m)"
   ]
  },
  {
   "cell_type": "markdown",
   "metadata": {},
   "source": [
    "### Setup"
   ]
  },
  {
   "cell_type": "markdown",
   "metadata": {
    "hidden": true
   },
   "source": [
    "Plotting and exporting. Change the `overwrite` flag if you want regenerated figures to be saved to disk."
   ]
  },
  {
   "cell_type": "code",
   "execution_count": 3,
   "metadata": {
    "collapsed": true,
    "hidden": true
   },
   "outputs": [],
   "source": [
    "matplotlib.rcParams['mathtext.fontset'] = 'stix'\n",
    "matplotlib.rcParams['font.family'] = 'STIXGeneral'\n",
    "\n",
    "SIZE = 14\n",
    "plt.rc('font', size=SIZE)          # controls default text sizes\n",
    "plt.rc('axes', titlesize=SIZE)     # fontsize of the axes title\n",
    "plt.rc('axes', labelsize=SIZE)     # fontsize of the x any y labels\n",
    "plt.rc('xtick', labelsize=10)      # fontsize of the tick labels\n",
    "plt.rc('ytick', labelsize=10)      # fontsize of the tick labels\n",
    "plt.rc('legend', fontsize=SIZE)    # legend fontsize\n",
    "plt.rc('figure', titlesize=SIZE)   # size of the figure title\n",
    "\n",
    "overwrite = True\n",
    "def export_figure(fig, name, extensions=['.png', '.pdf']):\n",
    "    for ext in extensions:\n",
    "        fname = '../fig/' + name + ext\n",
    "        if not os.path.isfile(fname):\n",
    "            print('Saving {}'.format(fname))\n",
    "            fig.savefig(fname)\n",
    "        elif overwrite:\n",
    "            print('Overwriting {}'.format(fname))\n",
    "            fig.savefig(fname)\n",
    "        else:\n",
    "            print('Skipping {}'.format(fname))"
   ]
  },
  {
   "cell_type": "markdown",
   "metadata": {
    "heading_collapsed": true
   },
   "source": [
    "### Initialize QInfer Objects"
   ]
  },
  {
   "cell_type": "code",
   "execution_count": 4,
   "metadata": {
    "collapsed": false,
    "hidden": true
   },
   "outputs": [],
   "source": [
    "ham_model = m.RabiRamseyModel()\n",
    "ham_model._Q = np.array([1,1,0,0,0])"
   ]
  },
  {
   "cell_type": "markdown",
   "metadata": {
    "hidden": true
   },
   "source": [
    "Model parameters:\n",
    "   - 0: :math:`\\Omega`, Rabi strength (MHz); coefficient of Sx\n",
    "   - 1: :math:`\\omega_e`, Zeeman frequency (MHz); coefficient of Sz\n",
    "   - 2: :math:`\\Delta \\omega_c`, ZFS detuning (MHz); coefficient of Sz^2\n",
    "   - 3: :math:`\\A_N`, Nitrogen hyperfine splitting (MHz); modeled as incoherent average  \n",
    "   - 4: :math:`T_2^-1`, inverse of electron T2* (MHz)\n",
    "\n",
    "Experiment parameters:\n",
    " - mode: Specifies whether a reference or signal count is being performed.\n",
    " - t:   Pulse width\n",
    " - tau: Ramsey wait time (only relevent if mode is `RabiRamseyModel.RAMSEY`)\n",
    " - phi: Ramsey phase between pulses (\")"
   ]
  },
  {
   "cell_type": "code",
   "execution_count": 5,
   "metadata": {
    "collapsed": false,
    "hidden": true
   },
   "outputs": [],
   "source": [
    "true_value = np.array([5.555, 1.432, 0.579, 2.171, 0.035])\n",
    "wide_prior = qi.UniformDistribution(np.array([\n",
    "            [0,10],\n",
    "            [0,10],\n",
    "            [-5,5],\n",
    "            [1.5,3.5],\n",
    "            [100**-1,1**-1]\n",
    "        ]))\n",
    "narrow_prior = qi.UniformDistribution(\n",
    "    true_value[:,np.newaxis] + \n",
    "    np.array([0.01,0.005,0.01,0.005,0.01])\n",
    "        [:,np.newaxis]*([-1,1]*np.ones((5,2)))\n",
    ")"
   ]
  },
  {
   "cell_type": "code",
   "execution_count": 10,
   "metadata": {
    "collapsed": false
   },
   "outputs": [],
   "source": [
    "def rabi_sweep(min_t=None, max_t=0.3, n=50):\n",
    "    if min_t is None:\n",
    "        min_t = max_t / n\n",
    "    \n",
    "    rabi_eps = np.array([\n",
    "        np.linspace(min_t, max_t, n),\n",
    "        np.zeros(n),\n",
    "        np.zeros(n),\n",
    "        np.ones(n) * ham_model.RABI\n",
    "    ]).T\n",
    "    rabi_eps = np.array(list(zip(*rabi_eps.T)), dtype=ham_model.expparams_dtype)\n",
    "    return rabi_eps\n",
    "\n",
    "def ramsey_sweep(min_tau=None, max_tau=2, tp=0.01, phi=0, n=50):\n",
    "    if min_tau is None:\n",
    "        min_tau = max_tau / n\n",
    "    \n",
    "    ramsey_eps = np.array([\n",
    "        tp * np.ones(n),\n",
    "        np.linspace(min_tau, max_tau, n),\n",
    "        phi * np.ones(n),\n",
    "        np.ones(n) * ham_model.RAMSEY\n",
    "    ]).T\n",
    "    ramsey_eps = np.array(list(zip(*ramsey_eps.T)), dtype=ham_model.expparams_dtype)\n",
    "    return ramsey_eps"
   ]
  },
  {
   "cell_type": "markdown",
   "metadata": {},
   "source": [
    "### Speed Tests"
   ]
  },
  {
   "cell_type": "code",
   "execution_count": 11,
   "metadata": {
    "collapsed": false
   },
   "outputs": [
    {
     "name": "stdout",
     "output_type": "stream",
     "text": [
      "1 loop, best of 1: 475 ms per loop\n",
      "1 loop, best of 1: 853 ms per loop\n"
     ]
    }
   ],
   "source": [
    "%timeit -n1 -r1 ham_model.likelihood(1, wide_prior.sample(1000), rabi_sweep(max_t=0.3,n=50))\n",
    "%timeit -n1 -r1 ham_model.likelihood(1, wide_prior.sample(1000), ramsey_sweep(max_tau=2,n=50))"
   ]
  },
  {
   "cell_type": "code",
   "execution_count": 26,
   "metadata": {
    "collapsed": false
   },
   "outputs": [
    {
     "name": "stdout",
     "output_type": "stream",
     "text": [
      "1 loop, best of 1: 2.2 s per loop\n",
      "1 loop, best of 1: 4.09 s per loop\n"
     ]
    }
   ],
   "source": [
    "updater = qi.SMCUpdater(ham_model, 5000, narrow_prior)\n",
    "rabi_eps = rabi_sweep(max_t=0.3,n=50)\n",
    "ramsey_eps = ramsey_sweep(max_tau=2,n=50)\n",
    "%timeit -n1 -r1 updater.bayes_risk(rabi_eps)\n",
    "%timeit -n1 -r1 updater.bayes_risk(ramsey_eps)"
   ]
  },
  {
   "cell_type": "markdown",
   "metadata": {},
   "source": [
    "###  Test Risk"
   ]
  },
  {
   "cell_type": "code",
   "execution_count": 24,
   "metadata": {
    "collapsed": false
   },
   "outputs": [
    {
     "data": {
      "text/plain": [
       "<matplotlib.text.Text at 0x7f008125a050>"
      ]
     },
     "execution_count": 24,
     "metadata": {},
     "output_type": "execute_result"
    },
    {
     "data": {
      "image/png": "[encoded data removed]",
      "text/plain": [
       "<matplotlib.figure.Figure at 0x7f00814f0e90>"
      ]
     },
     "metadata": {},
     "output_type": "display_data"
    }
   ],
   "source": [
    "updater = qi.SMCUpdater(ham_model, 5000, narrow_prior)\n",
    "rabi_eps = rabi_sweep(max_t=0.3,n=50)\n",
    "plt.plot(rabi_eps['t'], np.sqrt(updater.bayes_risk(rabi_eps)))\n",
    "plt.title('Bayes Risk of Rabi Experiment with Tight Prior')\n",
    "plt.xlabel(r'$t~(\\mu s)$')\n",
    "plt.ylabel(r'Squareroot Risk')"
   ]
  },
  {
   "cell_type": "code",
   "execution_count": 25,
   "metadata": {
    "collapsed": false
   },
   "outputs": [
    {
     "data": {
      "text/plain": [
       "<matplotlib.text.Text at 0x7f00811bd690>"
      ]
     },
     "execution_count": 25,
     "metadata": {},
     "output_type": "execute_result"
    },
    {
     "data": {
      "image/png": "[encoded data removed]",
      "text/plain": [
       "<matplotlib.figure.Figure at 0x7f00814f0a10>"
      ]
     },
     "metadata": {},
     "output_type": "display_data"
    }
   ],
   "source": [
    "updater = qi.SMCUpdater(ham_model, 5000, narrow_prior)\n",
    "ramsey_eps = ramsey_sweep(max_tau=2,n=50)\n",
    "plt.plot(ramsey_eps['tau'], updater.bayes_risk(ramsey_eps))\n",
    "plt.title('Bayes Risk of Ramsey Experiment with Tight Prior')\n",
    "plt.xlabel(r'$\\tau~(\\mu s)$')\n",
    "plt.ylabel(r'Squareroot Risk')"
   ]
  },
  {
   "cell_type": "markdown",
   "metadata": {},
   "source": [
    "### Adaptive Simulations"
   ]
  },
  {
   "cell_type": "code",
   "execution_count": null,
   "metadata": {
    "collapsed": true
   },
   "outputs": [],
   "source": [
    "updater = qi.SMCUpdater(ham_model_cached, 1000, model_prior)\n",
    "\n",
    "for idx_eps in range(100):\n",
    "    pass"
   ]
  }
 ],
 "metadata": {
  "anaconda-cloud": {},
  "kernelspec": {
   "display_name": "Python [conda env:nvmeas]",
   "language": "python",
   "name": "conda-env-nvmeas-py"
  },
  "language_info": {
   "codemirror_mode": {
    "name": "ipython",
    "version": 2
   },
   "file_extension": ".py",
   "mimetype": "text/x-python",
   "name": "python",
   "nbconvert_exporter": "python",
   "pygments_lexer": "ipython2",
   "version": "2.7.13"
  }
 },
 "nbformat": 4,
 "nbformat_minor": 1
}
